{
 "cells": [
  {
   "cell_type": "code",
   "execution_count": 1,
   "id": "830141b5-54b3-4d4b-9bd1-9b244037efde",
   "metadata": {},
   "outputs": [],
   "source": [
    "dropoutRate = 0.5"
   ]
  },
  {
   "cell_type": "code",
   "execution_count": 2,
   "id": "243424c7-bc7c-41b1-976f-fb32c63a90d0",
   "metadata": {},
   "outputs": [],
   "source": [
    "import torch\n",
    "\n",
    "class Convolutional_Layer(torch.nn.Module):\n",
    "    def __init__(self, inKernel, outKernel, kernelSize, strideStep, paddingVol):\n",
    "        super(Convolutional_Layer).__init__()\n",
    "\n",
    "        self.layer = torch.nn.Sequential(\n",
    "            torch.nn.Conv2d(inKernel, outKernel, kernel_size=KernelSize, stride=strideStep, padding=paddingVol),\n",
    "            torch.nn.ReLU()\n",
    "        )\n",
    "\n",
    "    def forward(self, x):\n",
    "        x = self.layer(x)\n",
    "        return x"
   ]
  },
  {
   "cell_type": "code",
   "execution_count": 3,
   "id": "1a9de2c3-77d9-4742-825a-dffbd35dd09b",
   "metadata": {},
   "outputs": [],
   "source": [
    "class AlexNet(torch.nn.Module):\n",
    "    def __init__(self):\n",
    "        super(AlexNet).__init__()\n",
    "\n",
    "        self.layer1 = torch.nn.Sequential(\n",
    "            Convolutional_Layer(3, 96, 11, 4, 0),\n",
    "            torch.nn.MaxPool2d(kernel_size=3, stride=2, padding=0)\n",
    "        )\n",
    "    \n",
    "        self.layer2 = torch.nn.Sequential(\n",
    "            Convolutional_Layer(96, 256, 5, 1, 2),\n",
    "            torch.nn.MaxPool2d(kernel_size=3, stride=2, padding=0)\n",
    "        )\n",
    "    \n",
    "        self.layer3 = Convolutional_Layer(256, 384, 3, 1, 1)\n",
    "    \n",
    "        self.layer4 = Convolutional_Layer(384, 384, 3, 1, 1)\n",
    "    \n",
    "        self.layer5 = torch.nn.Sequential(\n",
    "            Convolutional_Layer(384, 256, 3, 1, 1),\n",
    "            torch.nn.MaxPool2d(kernel_size=3, stride=2, padding=0)\n",
    "        )\n",
    "    \n",
    "        self.layer_drop = torch.nn.Dropout(p=dropoutRate)\n",
    "    \n",
    "        self.layer6 = torch.nn.Linear(6*6*256, 4096, bias=True)\n",
    "        torch.nn.init.xavier_uniform_(self.layer6.weight)\n",
    "    \n",
    "        self.layer7 = torch.nn.Linear(4096, 4096, bias=True)\n",
    "        torch.nn.init.xavier_uniform_(self.layer7.weight)\n",
    "    \n",
    "        self.layer8 = torch.nn.Linear(4096, 1000, bias=True)\n",
    "        torch.nn.init.xavier_uniform_(self.layer8.weight)\n",
    "\n",
    "    def forward(self, x):\n",
    "        x = self.layer1(x)\n",
    "        x = self.layer2(x)\n",
    "        x = self.layer3(x)\n",
    "        x = self.layer4(x)\n",
    "        x = self.layer5(x)\n",
    "        x = self.layer_drop(x)\n",
    "        x = x.view(x.size(0), -1)\n",
    "        x = self.layer6(x)\n",
    "        x = self.layer7(x)\n",
    "        x = self.layer8(x)\n",
    "\n",
    "        return x"
   ]
  },
  {
   "cell_type": "code",
   "execution_count": null,
   "id": "2e394f73-009e-41e7-9880-6cec2ad7166c",
   "metadata": {},
   "outputs": [],
   "source": []
  }
 ],
 "metadata": {
  "kernelspec": {
   "display_name": "Python 3 (ipykernel)",
   "language": "python",
   "name": "python3"
  },
  "language_info": {
   "codemirror_mode": {
    "name": "ipython",
    "version": 3
   },
   "file_extension": ".py",
   "mimetype": "text/x-python",
   "name": "python",
   "nbconvert_exporter": "python",
   "pygments_lexer": "ipython3",
   "version": "3.12.8"
  }
 },
 "nbformat": 4,
 "nbformat_minor": 5
}
